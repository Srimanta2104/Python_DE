{
 "cells": [
  {
   "cell_type": "markdown",
   "metadata": {},
   "source": [
    "Combine Dictionaries"
   ]
  },
  {
   "cell_type": "code",
   "execution_count": 3,
   "metadata": {},
   "outputs": [
    {
     "name": "stdout",
     "output_type": "stream",
     "text": [
      "{1: 10, 2: 20, 3: 30, 4: 40, 5: 50, 6: 60}\n"
     ]
    }
   ],
   "source": [
    "dict1 = {1:10,2:20}\n",
    "dict2 = {3:30,4:40}\n",
    "dict3 = {5:50,6:60}\n",
    "\n",
    "dict4 ={}\n",
    "for d in (dict1,dict2,dict3):\n",
    "    dict4.update(d)\n",
    "\n",
    "print(dict4)\n",
    "#Srimanta sir changes"
   ]
  },
  {
   "cell_type": "markdown",
   "metadata": {},
   "source": [
    "PRINT \n",
    " ***\n",
    "*   *\n",
    "*  \t*\n",
    "*****\n",
    "*  \t* \n",
    "*  \t* \n",
    "*\t*"
   ]
  },
  {
   "cell_type": "code",
   "execution_count": 10,
   "metadata": {},
   "outputs": [
    {
     "name": "stdout",
     "output_type": "stream",
     "text": [
      "  ***  \n",
      " *   * \n",
      " *   * \n",
      " ***** \n",
      " *   * \n",
      " *   * \n",
      " *   * \n",
      "\n"
     ]
    }
   ],
   "source": [
    "pattern = \"\"\n",
    "for row in range(0,7):\n",
    "    for colm in range(0,7):\n",
    "        if(((colm==1 or colm ==5)and row!=0) or ((row ==0 or row ==3) and (colm>1 and colm<5))):\n",
    "            pattern=pattern+\"*\"\n",
    "        else:\n",
    "            pattern= pattern + \" \" \n",
    "       \n",
    "    \n",
    "    pattern = pattern + \"\\n\"\n",
    "    print(pattern)\n",
    "\n",
    "\n",
    "\n"
   ]
  }
 ],
 "metadata": {
  "kernelspec": {
   "display_name": "Python 3",
   "language": "python",
   "name": "python3"
  },
  "language_info": {
   "codemirror_mode": {
    "name": "ipython",
    "version": 3
   },
   "file_extension": ".py",
   "mimetype": "text/x-python",
   "name": "python",
   "nbconvert_exporter": "python",
   "pygments_lexer": "ipython3",
   "version": "3.12.7"
  }
 },
 "nbformat": 4,
 "nbformat_minor": 2
}
